{
 "cells": [
  {
   "cell_type": "markdown",
   "id": "5f6d1303",
   "metadata": {},
   "source": [
    "Start by reading in the input file"
   ]
  },
  {
   "cell_type": "code",
   "execution_count": null,
   "id": "ac9b3158",
   "metadata": {},
   "outputs": [],
   "source": [
    "with open(\"input.txt\") as input_file:    \n",
    "    input_list = [item.strip('\\n').split() for item in input_file.readlines()]\n",
    "    \n",
    "input_list"
   ]
  },
  {
   "cell_type": "markdown",
   "id": "97ecf80c",
   "metadata": {},
   "source": [
    "We should start by splitting each input list in half to signify the two different compartments in each rucksack. The comprehension is to half the list and return each half in a tuple. Since we want end up with two seperate lists, we use the zip and unpack operator. * returns each item of a list (comprehension output) and zip combines all first elements in a list, then second etc."
   ]
  },
  {
   "cell_type": "code",
   "execution_count": null,
   "id": "449c0866",
   "metadata": {},
   "outputs": [],
   "source": [
    "comp1, comp2 = zip(*[(items[0][:int(len(items[0])/2)], items[0][int(len(items[0])/2):]) for items in input_list])\n",
    "print(comp1, comp2)"
   ]
  },
  {
   "cell_type": "markdown",
   "id": "df20e9cf",
   "metadata": {},
   "source": [
    "Now seperate each item out into a set of characters that represent the contents of that rucksack "
   ]
  },
  {
   "cell_type": "code",
   "execution_count": null,
   "id": "feb84324",
   "metadata": {},
   "outputs": [],
   "source": [
    "comp1_contents = [set(i) for i in comp1]\n",
    "comp2_contents = [set(i) for i in comp2]\n",
    "comp1_contents"
   ]
  },
  {
   "cell_type": "markdown",
   "id": "4f643b79",
   "metadata": {},
   "source": [
    "Now take the two compartments of each backpack, and find the intersection of the two sets. This gives the item common to both. The zip is necessary to iterate through each corresponding item in the two lists (returning a tuple), which we then apply the intersection operator to"
   ]
  },
  {
   "cell_type": "code",
   "execution_count": null,
   "id": "db250282",
   "metadata": {},
   "outputs": [],
   "source": [
    "common_items = [comp1.intersection(comp2) for (comp1, comp2) in zip(comp1_contents, comp2_contents)]\n",
    "common_items"
   ]
  },
  {
   "cell_type": "markdown",
   "id": "17963012",
   "metadata": {},
   "source": [
    "Write a function that can convert this set inputs to the character priorities required"
   ]
  },
  {
   "cell_type": "code",
   "execution_count": null,
   "id": "ae5454c8",
   "metadata": {},
   "outputs": [],
   "source": [
    "import string\n",
    "\n",
    "def char_to_num(char):\n",
    "    \n",
    "    # Convert set to string\n",
    "    char = list(char)[0]\n",
    "    \n",
    "    # Convert charcter to alphabet value\n",
    "    if char.isupper():\n",
    "        return ord(char)-38\n",
    "    else:\n",
    "        return ord(char)-96\n"
   ]
  },
  {
   "cell_type": "markdown",
   "id": "b0788985",
   "metadata": {},
   "source": [
    "Now we need to calculate the priorities for each entry and then sum up the total"
   ]
  },
  {
   "cell_type": "code",
   "execution_count": null,
   "id": "e691b583",
   "metadata": {},
   "outputs": [],
   "source": [
    "priorities = map(char_to_num, common_items)\n",
    "answer1 = sum(priorities)\n",
    "answer1"
   ]
  },
  {
   "cell_type": "markdown",
   "id": "6a2d1af6",
   "metadata": {},
   "source": [
    "## Part 2"
   ]
  },
  {
   "cell_type": "markdown",
   "id": "867d5f52",
   "metadata": {},
   "source": [
    "Split the backpacks into 3 groups, where the nth row of each group represents the contents of a backpack in the nth group"
   ]
  },
  {
   "cell_type": "code",
   "execution_count": null,
   "id": "6b75ab8a",
   "metadata": {},
   "outputs": [],
   "source": [
    "group1 = input_list[::3]\n",
    "group2 = input_list[1::3]\n",
    "group3 = input_list[2::3]\n",
    "group3"
   ]
  },
  {
   "cell_type": "markdown",
   "id": "77fdc86b",
   "metadata": {},
   "source": [
    "Again, split each entry into a set of individual items"
   ]
  },
  {
   "cell_type": "code",
   "execution_count": null,
   "id": "69bd1de3",
   "metadata": {},
   "outputs": [],
   "source": [
    "group1_contents = [set(i[0]) for i in group1]\n",
    "group2_contents = [set(i[0]) for i in group2]\n",
    "group3_contents = [set(i[0]) for i in group3]\n",
    "group3_contents"
   ]
  },
  {
   "cell_type": "markdown",
   "id": "87a811e9",
   "metadata": {},
   "source": [
    "For each row of every group we have to find the intersection between all the items"
   ]
  },
  {
   "cell_type": "code",
   "execution_count": null,
   "id": "af493d50",
   "metadata": {},
   "outputs": [],
   "source": [
    "common_items = [elf1.intersection(elf2, elf3) for (elf1, elf2, elf3) in zip(group1_contents, group2_contents, group3_contents)]\n",
    "common_items\n"
   ]
  },
  {
   "cell_type": "markdown",
   "id": "6cef0c14",
   "metadata": {},
   "source": [
    "Find the priorities now"
   ]
  },
  {
   "cell_type": "code",
   "execution_count": null,
   "id": "fce7f9c3",
   "metadata": {},
   "outputs": [],
   "source": [
    "priorities = map(char_to_num, common_items)\n",
    "answer2 = sum(priorities)\n",
    "answer2"
   ]
  }
 ],
 "metadata": {
  "kernelspec": {
   "display_name": "Python 3 (ipykernel)",
   "language": "python",
   "name": "python3"
  },
  "language_info": {
   "codemirror_mode": {
    "name": "ipython",
    "version": 3
   },
   "file_extension": ".py",
   "mimetype": "text/x-python",
   "name": "python",
   "nbconvert_exporter": "python",
   "pygments_lexer": "ipython3",
   "version": "3.10.8"
  }
 },
 "nbformat": 4,
 "nbformat_minor": 5
}
