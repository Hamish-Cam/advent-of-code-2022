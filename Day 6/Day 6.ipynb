{
 "cells": [
  {
   "cell_type": "code",
   "execution_count": 1,
   "id": "01b5ac2c",
   "metadata": {},
   "outputs": [],
   "source": [
    "with open(\"input.txt\") as input_file:    \n",
    "     input = input_file.read()"
   ]
  },
  {
   "cell_type": "markdown",
   "id": "30b0b9d8",
   "metadata": {},
   "source": [
    "Using inspiration from Owen, the Deque library could be useful here again. We can push charcters into the queue and once we have 4 charcters we can check it for repeating charcters. If there are repetitions then we should pop and push once each to recieve the next 4 charcters to test and so on."
   ]
  },
  {
   "cell_type": "code",
   "execution_count": 2,
   "id": "1b27a54c",
   "metadata": {},
   "outputs": [],
   "source": [
    "from collections import deque"
   ]
  },
  {
   "cell_type": "code",
   "execution_count": 3,
   "id": "7b4cfe33",
   "metadata": {},
   "outputs": [],
   "source": [
    "def unique_search(queue, input, phrase_length):\n",
    "    for idx, character in enumerate(input):\n",
    "        # Add a new character to the queue\n",
    "        queue.append(character)\n",
    "\n",
    "        # Only continue if we have 4 characters \n",
    "        if len(queue) < phrase_length:\n",
    "            continue\n",
    "\n",
    "        # Check for unique phrase\n",
    "        if len(set(queue)) == phrase_length:\n",
    "            return idx+1\n",
    "        \n",
    "        # Setup queue for next character to be added\n",
    "        queue.popleft()"
   ]
  },
  {
   "cell_type": "code",
   "execution_count": 4,
   "id": "9a28c7b8",
   "metadata": {},
   "outputs": [
    {
     "data": {
      "text/plain": [
       "1300"
      ]
     },
     "execution_count": 4,
     "metadata": {},
     "output_type": "execute_result"
    }
   ],
   "source": [
    "character_queue = deque([])\n",
    "answer1 = unique_search(character_queue, input, 4)\n",
    "answer1"
   ]
  },
  {
   "cell_type": "markdown",
   "id": "0d472264",
   "metadata": {},
   "source": [
    "## Part 2"
   ]
  },
  {
   "cell_type": "code",
   "execution_count": 5,
   "id": "4d1c4492",
   "metadata": {},
   "outputs": [
    {
     "data": {
      "text/plain": [
       "3986"
      ]
     },
     "execution_count": 5,
     "metadata": {},
     "output_type": "execute_result"
    }
   ],
   "source": [
    "character_queue = deque([])\n",
    "answer2 = unique_search(character_queue, input, 14)\n",
    "answer2"
   ]
  },
  {
   "cell_type": "code",
   "execution_count": null,
   "id": "0a19ee68",
   "metadata": {},
   "outputs": [],
   "source": []
  }
 ],
 "metadata": {
  "kernelspec": {
   "display_name": "Python 3 (ipykernel)",
   "language": "python",
   "name": "python3"
  },
  "language_info": {
   "codemirror_mode": {
    "name": "ipython",
    "version": 3
   },
   "file_extension": ".py",
   "mimetype": "text/x-python",
   "name": "python",
   "nbconvert_exporter": "python",
   "pygments_lexer": "ipython3",
   "version": "3.10.8"
  }
 },
 "nbformat": 4,
 "nbformat_minor": 5
}
